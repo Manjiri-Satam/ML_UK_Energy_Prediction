{
 "cells": [
  {
   "cell_type": "code",
   "execution_count": 1,
   "id": "ad0394c6-7def-4f36-8bcf-5c6d118862b2",
   "metadata": {},
   "outputs": [],
   "source": [
    "# Let's first import the libraries\n",
    "import sqlite3\n",
    "import pandas as pd"
   ]
  },
  {
   "cell_type": "code",
   "execution_count": 2,
   "id": "735ab76c-6aa0-4cc4-898a-4eead2a45f78",
   "metadata": {},
   "outputs": [],
   "source": [
    "# Now, let's connect to the SQLite database\n",
    "conn = sqlite3.connect(\"ml-power.db\")"
   ]
  },
  {
   "cell_type": "code",
   "execution_count": 3,
   "id": "0479959b-1333-4825-9c3f-e0a7b51b9a03",
   "metadata": {},
   "outputs": [],
   "source": [
    "# And create a cursor object\n",
    "cursor = conn.cursor()"
   ]
  },
  {
   "cell_type": "code",
   "execution_count": 4,
   "id": "5878dd10-47ea-4c65-86ee-6f57e2c50cd8",
   "metadata": {},
   "outputs": [
    {
     "name": "stdout",
     "output_type": "stream",
     "text": [
      "elec\n",
      "edrp_geography_data\n",
      "edrp_metadata\n",
      "lad_2011_uk_nc\n"
     ]
    }
   ],
   "source": [
    "# Now let's execute SQL query to fetch table names\n",
    "cursor.execute(\"SELECT name FROM sqlite_master WHERE type='table';\")\n",
    "\n",
    "# And, fetch table names\n",
    "tables = cursor.fetchall()\n",
    "\n",
    "# And, finally print the table names\n",
    "for table in tables:\n",
    "    print(table[0])"
   ]
  },
  {
   "cell_type": "code",
   "execution_count": 5,
   "id": "f46cbc4a-e122-4ce0-a191-0bd7fba3864c",
   "metadata": {},
   "outputs": [
    {
     "name": "stdout",
     "output_type": "stream",
     "text": [
      "[('ANON_ID', 'ADVANCEDATETIME', 'HH', 'ELECKWH'), ('5110', '15FEB08:12:30:00', '25', '0.6'), ('11617', '15FEB08:12:30:00', '25', '0.25'), ('4869', '15FEB08:12:30:00', '25', '0.3'), ('9015', '15FEB08:12:30:00', '25', '0.4')]\n"
     ]
    }
   ],
   "source": [
    "# Let's query the first few rows of the 'elec' table\n",
    "cursor.execute(\"SELECT * FROM elec LIMIT 5;\")\n",
    "rows = cursor.fetchall()\n",
    "print(rows)"
   ]
  },
  {
   "cell_type": "code",
   "execution_count": 6,
   "id": "c66136be-7dd6-470e-a0d5-f750301df8d6",
   "metadata": {},
   "outputs": [
    {
     "name": "stdout",
     "output_type": "stream",
     "text": [
      "[(0, 'ANON_ID', 'TEXT', 0, None, 0), (1, 'ADVANCEDATETIME', 'TEXT', 0, None, 0), (2, 'HH', 'TEXT', 0, None, 0), (3, 'ELECKWH', 'TEXT', 0, None, 0)]\n"
     ]
    }
   ],
   "source": [
    "# And, also query the schema of the 'elec' table\n",
    "cursor.execute(\"PRAGMA table_info(elec);\")\n",
    "schema = cursor.fetchall()\n",
    "print(schema)"
   ]
  },
  {
   "cell_type": "code",
   "execution_count": 7,
   "id": "12f245b2-697d-4a7f-b51f-ef1be923f695",
   "metadata": {},
   "outputs": [
    {
     "name": "stdout",
     "output_type": "stream",
     "text": [
      "Sample rows from the 'elec' table:\n",
      "('ANON_ID', 'ADVANCEDATETIME', 'HH', 'ELECKWH')\n",
      "('5110', '15FEB08:12:30:00', '25', '0.6')\n",
      "('11617', '15FEB08:12:30:00', '25', '0.25')\n",
      "('4869', '15FEB08:12:30:00', '25', '0.3')\n",
      "('9015', '15FEB08:12:30:00', '25', '0.4')\n",
      "\n",
      "Data types of columns in the 'elec' table:\n",
      "(0, 'ANON_ID', 'TEXT', 0, None, 0)\n",
      "(1, 'ADVANCEDATETIME', 'TEXT', 0, None, 0)\n",
      "(2, 'HH', 'TEXT', 0, None, 0)\n",
      "(3, 'ELECKWH', 'TEXT', 0, None, 0)\n",
      "\n",
      "First few rows of the 'elec' table:\n",
      "('ANON_ID', 'ADVANCEDATETIME', 'HH', 'ELECKWH')\n",
      "('5110', '15FEB08:12:30:00', '25', '0.6')\n",
      "('11617', '15FEB08:12:30:00', '25', '0.25')\n",
      "('4869', '15FEB08:12:30:00', '25', '0.3')\n",
      "('9015', '15FEB08:12:30:00', '25', '0.4')\n"
     ]
    }
   ],
   "source": [
    "# View table contents\n",
    "cursor.execute(\"SELECT * FROM elec LIMIT 5;\")\n",
    "sample_rows = cursor.fetchall()\n",
    "print(\"Sample rows from the 'elec' table:\")\n",
    "for row in sample_rows:\n",
    "    print(row)\n",
    "\n",
    "# Check data types\n",
    "cursor.execute(\"PRAGMA table_info(elec);\")\n",
    "table_info = cursor.fetchall()\n",
    "print(\"\\nData types of columns in the 'elec' table:\")\n",
    "for info in table_info:\n",
    "    print(info)\n",
    "\n",
    "# View table head\n",
    "cursor.execute(\"SELECT * FROM elec LIMIT 5;\")\n",
    "table_head = cursor.fetchall()\n",
    "print(\"\\nFirst few rows of the 'elec' table:\")\n",
    "for row in table_head:\n",
    "    print(row)"
   ]
  },
  {
   "cell_type": "code",
   "execution_count": 8,
   "id": "f7922294-1630-4e9a-ae2b-b14b9a8ca8af",
   "metadata": {},
   "outputs": [
    {
     "name": "stdout",
     "output_type": "stream",
     "text": [
      "\n",
      "Basic statistics for the 'ELECKWH' column:\n",
      "Average: 0.25339232054234995\n",
      "Minimum: 0.001\n",
      "Maximum: ELECKWH\n"
     ]
    }
   ],
   "source": [
    "# Basic statistics for numeric columns\n",
    "cursor.execute(\"SELECT AVG(ELECKWH), MIN(ELECKWH), MAX(ELECKWH) FROM elec;\")\n",
    "stats = cursor.fetchall()\n",
    "print(\"\\nBasic statistics for the 'ELECKWH' column:\")\n",
    "print(\"Average:\", stats[0][0])\n",
    "print(\"Minimum:\", stats[0][1])\n",
    "print(\"Maximum:\", stats[0][2])"
   ]
  },
  {
   "cell_type": "code",
   "execution_count": 8,
   "id": "3d67dc68-f275-48b5-8a35-bcb4af3cb3f0",
   "metadata": {},
   "outputs": [],
   "source": [
    "# Read CSV and Excel files into pandas DataFrames\n",
    "df1 = pd.read_excel(\"edrp_geography_data.xlsx\")\n",
    "df2 = pd.read_excel(\"edrp_metadata.xlsx\")\n",
    "df3 = pd.read_csv(\"lad_2011_uk_nc.csv\")\n",
    "\n",
    "# Insert data into new tables in the SQLite database\n",
    "df1.to_sql(\"edrp_geography_data\", conn, if_exists=\"replace\", index=False)\n",
    "df2.to_sql(\"edrp_metadata\", conn, if_exists=\"replace\", index=False)\n",
    "df3.to_sql(\"lad_2011_uk_nc\", conn, if_exists=\"replace\", index=False)\n",
    "\n",
    "# Commit changes\n",
    "conn.commit()"
   ]
  },
  {
   "cell_type": "code",
   "execution_count": 9,
   "id": "b7bb47b2-1723-4376-9aa0-4120cb85f763",
   "metadata": {},
   "outputs": [
    {
     "name": "stdout",
     "output_type": "stream",
     "text": [
      "elec\n",
      "edrp_geography_data\n",
      "edrp_metadata\n",
      "lad_2011_uk_nc\n"
     ]
    }
   ],
   "source": [
    "# Now let's execute SQL query to fetch table names\n",
    "cursor.execute(\"SELECT name FROM sqlite_master WHERE type='table';\")\n",
    "\n",
    "# And, fetch table names\n",
    "tables = cursor.fetchall()\n",
    "\n",
    "# And, finally print the table names\n",
    "for table in tables:\n",
    "    print(table[0])"
   ]
  },
  {
   "cell_type": "code",
   "execution_count": null,
   "id": "375c2bd4-7e70-4621-b12b-c37d93d386b8",
   "metadata": {},
   "outputs": [],
   "source": []
  }
 ],
 "metadata": {
  "kernelspec": {
   "display_name": "Python 3 (ipykernel)",
   "language": "python",
   "name": "python3"
  },
  "language_info": {
   "codemirror_mode": {
    "name": "ipython",
    "version": 3
   },
   "file_extension": ".py",
   "mimetype": "text/x-python",
   "name": "python",
   "nbconvert_exporter": "python",
   "pygments_lexer": "ipython3",
   "version": "3.12.2"
  }
 },
 "nbformat": 4,
 "nbformat_minor": 5
}
