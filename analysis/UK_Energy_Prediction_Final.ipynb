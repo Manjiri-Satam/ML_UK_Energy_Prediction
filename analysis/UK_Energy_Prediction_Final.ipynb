{
 "cells": [
  {
   "cell_type": "markdown",
   "id": "08850b12-c5ba-4878-bea6-34934c3408ce",
   "metadata": {},
   "source": [
    "# Forecasting Electricity Consumption Using Supervised Learning in the UK\n",
    "\n",
    "### Team: Manjiri Satam, Miriam Runde, Jackson Luckey, Aditya Narayan Rai\n",
    "\n",
    "### Machine Learning Group Project"
   ]
  },
  {
   "cell_type": "markdown",
   "id": "8f235d4d-eb2b-4af4-956b-4b1c7a283950",
   "metadata": {},
   "source": [
    "# Introduction"
   ]
  },
  {
   "cell_type": "markdown",
   "id": "293cd4ab-dfb7-410c-bc04-ff54087d22f6",
   "metadata": {},
   "source": [
    "Need to write about the context. Points for Aditya:\n",
    "\n",
    "- Intro para using the Memo\n",
    "- A para from the literature\n",
    "- A line on the way forward"
   ]
  },
  {
   "cell_type": "markdown",
   "id": "cf2acd09-d6c0-43b5-9492-9110640f9cd3",
   "metadata": {},
   "source": [
    "# Data - Cleaning and Analysis Strategy"
   ]
  },
  {
   "cell_type": "markdown",
   "id": "ccd48cbf-34da-4319-b21d-ad28425c915f",
   "metadata": {},
   "source": [
    "I would suggest to divide this section into two parts:\n",
    "\n",
    "- Data Cleaning (we are doing a whole lot of cleaning and let's talk about them in detail)\n",
    "- Data Analysis - (we need to talk about the models, test set, cross-validation and the selection of hyperparameters)"
   ]
  },
  {
   "cell_type": "markdown",
   "id": "0b2cf949-76fa-42c6-a423-2eee8e891b01",
   "metadata": {},
   "source": [
    "# Exploratory Data Analysis"
   ]
  },
  {
   "cell_type": "markdown",
   "id": "659a0eb8-54c4-4059-9652-8b86c6a9352d",
   "metadata": {},
   "source": [
    "We need to talk about the following things:\n",
    "\n",
    "- Patterns in the analyzed data\n",
    "- Any kind of bivariate relationships\n",
    "- Effect on the Modelling Choices"
   ]
  },
  {
   "cell_type": "markdown",
   "id": "4c4f9819-02dd-4785-a057-28b4f98104bb",
   "metadata": {},
   "source": [
    "# Models "
   ]
  },
  {
   "cell_type": "markdown",
   "id": "79a849d5-1330-4f0a-ab7a-b01681e9bc14",
   "metadata": {},
   "source": [
    "We need to talk about the following:\n",
    "\n",
    "- Models we tried\n",
    "- Performance of the models\n",
    "- Comparison between the models\n",
    "- Exploration of features to be included based on the analysis of the models"
   ]
  },
  {
   "cell_type": "markdown",
   "id": "f9fa6203-32c4-495c-8ffc-89b5b63df597",
   "metadata": {},
   "source": [
    "# Discussion and Conclusion"
   ]
  },
  {
   "cell_type": "code",
   "execution_count": null,
   "id": "60da9ce3-0c75-4ae5-b49e-ef9fe000425b",
   "metadata": {},
   "outputs": [],
   "source": []
  }
 ],
 "metadata": {
  "kernelspec": {
   "display_name": "Python 3 (ipykernel)",
   "language": "python",
   "name": "python3"
  },
  "language_info": {
   "codemirror_mode": {
    "name": "ipython",
    "version": 3
   },
   "file_extension": ".py",
   "mimetype": "text/x-python",
   "name": "python",
   "nbconvert_exporter": "python",
   "pygments_lexer": "ipython3",
   "version": "3.12.2"
  }
 },
 "nbformat": 4,
 "nbformat_minor": 5
}
