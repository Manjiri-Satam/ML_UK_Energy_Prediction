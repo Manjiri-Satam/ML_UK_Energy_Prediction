{
 "cells": [
  {
   "cell_type": "markdown",
   "id": "042c4b5a-3844-4102-824a-a1d01f2747b6",
   "metadata": {},
   "source": [
    "## Dataset information:\n",
    "https://islp.readthedocs.io/en/latest/datasets/Carseats.html"
   ]
  },
  {
   "cell_type": "markdown",
   "id": "ecaf4956-7a80-44de-8c5e-6ca9b784299b",
   "metadata": {},
   "source": [
    "## Load libraries:"
   ]
  },
  {
   "cell_type": "code",
   "execution_count": 2,
   "id": "549445ad-60ed-4cb6-84a6-7055210eef86",
   "metadata": {},
   "outputs": [],
   "source": [
    "import pandas as pd\n",
    "import numpy as np\n",
    "from sklearn.model_selection import train_test_split\n",
    "from sklearn.preprocessing import StandardScaler\n",
    "from sklearn.ensemble import RandomForestClassifier\n",
    "from sklearn.model_selection import GridSearchCV\n",
    "from sklearn.metrics import classification_report, accuracy_score\n",
    "import matplotlib.pyplot as plt"
   ]
  },
  {
   "cell_type": "markdown",
   "id": "2e26a762-6908-4fdc-a37e-398f758c4501",
   "metadata": {},
   "source": [
    "## Read the dataset"
   ]
  },
  {
   "cell_type": "code",
   "execution_count": 13,
   "id": "a121fa9a-c1e3-4a44-80e6-3b2db27c2bd3",
   "metadata": {},
   "outputs": [
    {
     "name": "stdout",
     "output_type": "stream",
     "text": [
      "Unnamed: 0    False\n",
      "id            False\n",
      "dt            False\n",
      "hh            False\n",
      "kwh           False\n",
      "dtype: bool\n"
     ]
    },
    {
     "data": {
      "text/plain": [
       "<bound method NDFrame.head of        Unnamed: 0    id                dt  hh   kwh\n",
       "0               0  5110  15FEB08:13:00:00  26  0.75\n",
       "1               1  5110  15FEB08:13:30:00  27  0.25\n",
       "2               2  5110  15FEB08:14:00:00  28  0.30\n",
       "3               3  5110  15FEB08:14:30:00  29  0.20\n",
       "4               4  5110  15FEB08:15:00:00  30  0.25\n",
       "...           ...   ...               ...  ..   ...\n",
       "40177       40177  5110  29SEP10:20:30:00  41  0.25\n",
       "40178       40178  5110  29SEP10:21:00:00  42  0.25\n",
       "40179       40179  5110  29SEP10:21:30:00  43  0.30\n",
       "40180       40180  5110  29SEP10:22:00:00  44  0.20\n",
       "40181       40181  5110  29SEP10:22:30:00  45  0.25\n",
       "\n",
       "[40182 rows x 5 columns]>"
      ]
     },
     "execution_count": 13,
     "metadata": {},
     "output_type": "execute_result"
    }
   ],
   "source": [
    "# Load the dataset\n",
    "df = pd.read_csv('5110.csv')\n",
    "\n",
    "\n",
    "# Check for missing values\n",
    "print(df.isna().any())\n",
    "\n",
    "\n",
    "\n",
    "# Convert categorical variables to dummies and drop specific columns\n",
    "df.describe()\n",
    "df.head\n",
    "\n",
    "\n"
   ]
  },
  {
   "cell_type": "code",
   "execution_count": 16,
   "id": "2ca476dd",
   "metadata": {},
   "outputs": [
    {
     "name": "stdout",
     "output_type": "stream",
     "text": [
      "Random Forest MSE: 0.04043675519314826\n",
      "Random Forest RMSE: 0.2010889235963738\n",
      "Random Forest R^2: 0.4192625000849639\n"
     ]
    }
   ],
   "source": [
    "\n",
    "# Drop the 'Unnamed: 0' and 'hh' columns, and convert 'dt' to datetime\n",
    "df['dt'] = pd.to_datetime(df['dt'], format='%d%b%y:%H:%M:%S')\n",
    "df = df.drop(['Unnamed: 0', 'hh'], axis=1)\n",
    "\n",
    "# Feature engineering from 'dt': creating year, month, day, hour features\n",
    "df['year'] = df['dt'].dt.year\n",
    "df['month'] = df['dt'].dt.month\n",
    "df['day'] = df['dt'].dt.day\n",
    "df['hour'] = df['dt'].dt.hour\n",
    "\n",
    "# Define features (X) and target (y)\n",
    "X = df.drop(['id', 'dt', 'kwh'], axis=1)  # Dropping 'id' as it seems to be an identifier\n",
    "y = df['kwh']\n",
    "\n",
    "# Split the data into training and testing sets\n",
    "X_train, X_test, y_train, y_test = train_test_split(X, y, test_size=0.3, random_state=42)\n",
    "\n",
    "# Initialize and train a Random Forest Regressor\n",
    "rf_model = RandomForestRegressor(n_estimators=100, random_state=42)\n",
    "rf_model.fit(X_train, y_train)\n",
    "\n",
    "# Predictions using the Random Forest model\n",
    "y_pred_rf = rf_model.predict(X_test)\n",
    "\n",
    "# Evaluation\n",
    "mse_rf = mean_squared_error(y_test, y_pred_rf)\n",
    "rmse_rf = np.sqrt(mse_rf)\n",
    "r2_rf = r2_score(y_test, y_pred_rf)\n",
    "\n",
    "# Print out the metrics\n",
    "print(f\"Random Forest MSE: {mse_rf}\")\n",
    "print(f\"Random Forest RMSE: {rmse_rf}\")\n",
    "print(f\"Random Forest R^2: {r2_rf}\")\n"
   ]
  }
 ],
 "metadata": {
  "kernelspec": {
   "display_name": "Python 3 (ipykernel)",
   "language": "python",
   "name": "python3"
  },
  "language_info": {
   "codemirror_mode": {
    "name": "ipython",
    "version": 3
   },
   "file_extension": ".py",
   "mimetype": "text/x-python",
   "name": "python",
   "nbconvert_exporter": "python",
   "pygments_lexer": "ipython3",
   "version": "3.12.2"
  }
 },
 "nbformat": 4,
 "nbformat_minor": 5
}
